{
 "cells": [
  {
   "cell_type": "markdown",
   "id": "edf5afda-75e2-49fc-af90-4acd770bd3ce",
   "metadata": {},
   "source": [
    "# Random hexamer barcode collapsing"
   ]
  },
  {
   "cell_type": "markdown",
   "id": "454c74de-7023-4f15-9c8c-e9cc7c9c98be",
   "metadata": {},
   "source": [
    "In this notebook I collapse random hexamers from starsolo output. Then, I perform QC and the whole data (poliT and random hexamers) and only in poliT primer subset of the data. I then cluster all the cells with all the data and only with poliT information. This notebook is coded for one species at a time (for species integration go to \"testis_singlecell/Workspaces/mtxellrb/to_paula/cluster_integration.ipynb\")"
   ]
  },
  {
   "cell_type": "code",
   "execution_count": 1,
   "id": "be7eb250-2fdd-4b87-a8e7-82c10aad8d3d",
   "metadata": {},
   "outputs": [
    {
     "data": {
      "text/html": [
       "<style>.container { width:90% !important; }</style>"
      ],
      "text/plain": [
       "<IPython.core.display.HTML object>"
      ]
     },
     "metadata": {},
     "output_type": "display_data"
    }
   ],
   "source": [
    "import anndata as ad\n",
    "import scanpy as sc\n",
    "import seaborn as sns\n",
    "import pandas as pd\n",
    "import numpy as np\n",
    "import bbknn\n",
    "import matplotlib.pyplot as plt\n",
    "import skmisc\n",
    "import os\n",
    "# import scvi\n",
    "\n",
    "from IPython.display import Markdown, display\n",
    "from IPython.display import display, HTML\n",
    "from os import environ\n",
    "\n",
    "sns.set_context('poster')\n",
    "\n",
    "display(HTML(\"<style>.container { width:90% !important; }</style>\"))\n",
    "sc.settings.verbosity = 3  # verbosity: errors (0), warnings (1), info (2), hints (3)\n",
    "sc.settings.set_figure_params(dpi=80) #resolution"
   ]
  },
  {
   "cell_type": "code",
   "execution_count": 2,
   "id": "e7a36ce3-a6ac-4e55-8c6c-aab26e63fb91",
   "metadata": {},
   "outputs": [],
   "source": [
    "def load_barcode_replacements(barcode_info):\n",
    "    \"\"\"Load the barcode(1) (R) -> barcode(1) R replacement list\"\"\"\n",
    "    # barcode_info = pd.read_csv(barcode_path / f\"bc_data_{barcode_name}.csv\", sep=\",\")\n",
    "    # We combine T and R into T\n",
    "    # to be identical to splitpipe's approach.\n",
    "    pairs_by_well = {}\n",
    "    for _, row in barcode_info.iterrows():\n",
    "        well = row[\"well\"]\n",
    "        if not well in pairs_by_well:\n",
    "            pairs_by_well[well] = [None, None]\n",
    "        if row[\"stype\"] == \"T\":\n",
    "            pairs_by_well[well][0] = row[\"sequence\"]\n",
    "        else:\n",
    "            pairs_by_well[well][1] = row[\"sequence\"]\n",
    "    replacements = {x[1]: x[0] for x in pairs_by_well.values()}\n",
    "    # assert len(replacements) == len(barcode_info) / 2\n",
    "    return replacements"
   ]
  },
  {
   "cell_type": "code",
   "execution_count": 3,
   "id": "1ab436f9-981b-4d78-b0cc-3c1b41d66cdd",
   "metadata": {},
   "outputs": [],
   "source": [
    "def get_adata(path_to_mtx,samples):\n",
    "    sample = samples[0]\n",
    "\n",
    "    adata = sc.read_10x_mtx(path_to_mtx[0],cache=True)\n",
    "    adata.obs_names = [ sample+\"_\"+x.split(\"-\")[0] for x in adata.obs_names ]\n",
    "    adata.obs[\"DATASET\"] = sample\n",
    "\n",
    "    for index,file in enumerate(path_to_mtx[1:]):\n",
    "        sample = samples[index+1]\n",
    "\n",
    "        adata_new = sc.read_10x_mtx(file,cache=True)\n",
    "        adata_new.obs_names = [ sample+\"_\"+x.split(\"-\")[0] for x in adata_new.obs_names ]\n",
    "        adata_new.obs[\"DATASET\"] = sample\n",
    "\n",
    "        adata = adata.concatenate(adata_new,index_unique=None)\n",
    "        del(adata_new)\n",
    "        \n",
    "    return adata"
   ]
  },
  {
   "cell_type": "markdown",
   "id": "4beb1198-6b02-485d-a879-b39c1946be58",
   "metadata": {},
   "source": [
    "First round of barcodes (linked to poliT or to random hexamers) used for v1 WT kit"
   ]
  },
  {
   "cell_type": "code",
   "execution_count": 4,
   "id": "3b38e700-edb3-4d1a-b2d5-8d00f32b8b75",
   "metadata": {},
   "outputs": [],
   "source": [
    "bc_1 = \"/home/paulilokiestudia/testis_singlecell/Workspaces/paula/data/barcode_whitelists/bc_data_v2.csv\""
   ]
  },
  {
   "cell_type": "code",
   "execution_count": 5,
   "id": "da048cda-cfbe-4a3c-878f-90ca4621f647",
   "metadata": {},
   "outputs": [],
   "source": [
    "df = pd.read_csv(bc_1, delimiter=',')"
   ]
  },
  {
   "cell_type": "code",
   "execution_count": 6,
   "id": "d909b366-8867-4afa-a837-5d623f5ec047",
   "metadata": {},
   "outputs": [],
   "source": [
    "sp = \"WCG\"\n",
    "samples = \"Whitecheeked_gibbon\".split(\",\")\n",
    "zu = 4"
   ]
  },
  {
   "cell_type": "code",
   "execution_count": 7,
   "id": "91293d79-52c4-4365-8ff5-e93ae29461de",
   "metadata": {},
   "outputs": [],
   "source": [
    "path_to_mtx_starsolo_list = []\n",
    "path_to_mapping = f'/home/paulilokiestudia/testis_singlecell/Workspaces/paula/starsolo_v1/{sp}/'########\n",
    "for sample in samples:\n",
    "    path_to_mtx_starsolo_list.append(f'{path_to_mapping}{sample}/combined_fil/')"
   ]
  },
  {
   "cell_type": "code",
   "execution_count": 8,
   "id": "e772031f-0345-482f-8b4a-4f172ab095c9",
   "metadata": {},
   "outputs": [],
   "source": [
    "path_out = f'/home/paulilokiestudia/testis_singlecell/Workspaces/paula/starsolo_v1/{sp}/adata'\n",
    "\n",
    "if not os.path.exists(path_out):\n",
    "    os.makedirs(path_out)\n",
    "\n",
    "adata_out_mm = f'{path_out}'\n",
    "\n",
    "adata_out_mm = f'{path_out}/preproc_1_starsolo_multimap_collapsed.h5ad'"
   ]
  },
  {
   "cell_type": "code",
   "execution_count": 9,
   "id": "fb3d8965-fa04-4c01-badb-f4756e32895a",
   "metadata": {},
   "outputs": [
    {
     "name": "stdout",
     "output_type": "stream",
     "text": [
      "... writing an h5ad cache file to speedup reading next time\n"
     ]
    }
   ],
   "source": [
    "adata = get_adata(path_to_mtx_starsolo_list,samples)"
   ]
  },
  {
   "cell_type": "code",
   "execution_count": 10,
   "id": "61c5fa88-69fc-4870-b8a0-ee42d478a1cf",
   "metadata": {},
   "outputs": [
    {
     "data": {
      "text/plain": [
       "AnnData object with n_obs × n_vars = 7576 × 34643\n",
       "    obs: 'DATASET'\n",
       "    var: 'gene_ids', 'feature_types'"
      ]
     },
     "execution_count": 10,
     "metadata": {},
     "output_type": "execute_result"
    }
   ],
   "source": [
    "adata"
   ]
  },
  {
   "cell_type": "code",
   "execution_count": 11,
   "id": "e9909550-4e7f-411e-afb1-64aa7a774679",
   "metadata": {},
   "outputs": [
    {
     "name": "stdout",
     "output_type": "stream",
     "text": [
      "Index(['Whitecheeked_gibbon_AGATCGCA_TGAAGAGA_TTCATCGC_PARSE6_UDI_WT_4',\n",
      "       'Whitecheeked_gibbon_CAATGGAA_TGGTGGTA_TTCATCGC_PARSE6_UDI_WT_4',\n",
      "       'Whitecheeked_gibbon_CCTCCTGA_TGGTGGTA_TTCATCGC_PARSE6_UDI_WT_4',\n",
      "       'Whitecheeked_gibbon_ACAGCAGA_TTCACGCA_TTCATCGC_PARSE6_UDI_WT_4',\n",
      "       'Whitecheeked_gibbon_TATCAGCA_TTCACGCA_TTCATCGC_PARSE6_UDI_WT_4'],\n",
      "      dtype='object')\n"
     ]
    }
   ],
   "source": [
    "cell_names = adata.obs.index\n",
    "print(cell_names[-5:])"
   ]
  },
  {
   "cell_type": "code",
   "execution_count": 12,
   "id": "689030b5-ef7c-42bc-aae4-6f1dc806fe60",
   "metadata": {},
   "outputs": [],
   "source": [
    "bc_matched = load_barcode_replacements(df)"
   ]
  },
  {
   "cell_type": "code",
   "execution_count": 13,
   "id": "97bf4749-779d-4eee-9802-8dfdcb3d217d",
   "metadata": {},
   "outputs": [
    {
     "name": "stdout",
     "output_type": "stream",
     "text": [
      "CTGCTTTG ACTCGTAA\n",
      "CATGATCA AAACGATA\n",
      "GGGTAGCG TTACCTCG\n",
      "CCGAGAAA GCCTGCAA\n",
      "ACGGACTC TGGTATAC\n"
     ]
    }
   ],
   "source": [
    "for key in list(bc_matched)[:5]:\n",
    "    print(key, bc_matched[key])"
   ]
  },
  {
   "cell_type": "code",
   "execution_count": 14,
   "id": "94844d02-d899-4123-8321-e3ec9f806a32",
   "metadata": {},
   "outputs": [],
   "source": [
    "# bc_matched"
   ]
  },
  {
   "cell_type": "code",
   "execution_count": 15,
   "id": "345c845e-10fa-423e-818f-d55a3e036cb5",
   "metadata": {},
   "outputs": [],
   "source": [
    "poliT_primers = set(bc_matched.values())\n",
    "randomhexprimers = set(bc_matched.keys())"
   ]
  },
  {
   "cell_type": "code",
   "execution_count": 16,
   "id": "14f93425-fb5d-4a13-b846-5c30419a6eb0",
   "metadata": {},
   "outputs": [],
   "source": [
    "# poliT_primers_list = list(poliT_primers)\n",
    "\n",
    "# with open('/home/paulilokiestudia/testis_singlecell/Workspaces/paula/data/barcode_whitelists/bc_data_v2_poliT.txt', 'w') as file:\n",
    "#     for primer in poliT_primers_list:\n",
    "#         file.write(f\"{primer}\\n\")"
   ]
  },
  {
   "cell_type": "code",
   "execution_count": 17,
   "id": "d3791726-53dd-4d8e-99d9-465d1a6f87c0",
   "metadata": {},
   "outputs": [],
   "source": [
    "# poliT_primers_list = list(randomhexprimers)\n",
    "\n",
    "# with open('/home/paulilokiestudia/testis_singlecell/Workspaces/paula/data/barcode_whitelists/bc_data_v2_randomhexamer.txt', 'w') as file:\n",
    "#     for primer in poliT_primers_list:\n",
    "#         file.write(f\"{primer}\\n\")"
   ]
  },
  {
   "cell_type": "code",
   "execution_count": 18,
   "id": "ccade930-2f3d-48c6-b761-db3ae9c4916e",
   "metadata": {},
   "outputs": [],
   "source": [
    "bc_values = set(bc_matched.keys())\n",
    "\n",
    "matching_cells = []\n",
    "\n",
    "for cell_name in adata.obs.index:\n",
    "    parts = cell_name.split('_')\n",
    "    # probably to generalize it to other species i can remove the sample name, then split it, and take parts[0]\n",
    "    # because Chimpanzee_stephan sample has only 1 '_', but Brown_Wooly_Monkey_1 has 3 '_'\n",
    "    # Check if the second section is in bc_matched values\n",
    "    if parts[zu] in bc_values:\n",
    "        matching_cells.append(cell_name)"
   ]
  },
  {
   "cell_type": "code",
   "execution_count": 19,
   "id": "ab81463d-d43d-45bc-b481-4a213c7291c1",
   "metadata": {},
   "outputs": [
    {
     "name": "stdout",
     "output_type": "stream",
     "text": [
      "['Whitecheeked_gibbon_CCAGTTCA_AAACATCG_AGGATTAA_PARSE1_UDI_WT_1', 'Whitecheeked_gibbon_AACCGAGA_AACGCTTA_AGGATTAA_PARSE1_UDI_WT_1']\n"
     ]
    }
   ],
   "source": [
    "# Output matching cells\n",
    "print(matching_cells[:2])"
   ]
  },
  {
   "cell_type": "code",
   "execution_count": 20,
   "id": "d8178e31-9ee7-4f97-a377-2f260d065fae",
   "metadata": {},
   "outputs": [
    {
     "data": {
      "text/plain": [
       "1322"
      ]
     },
     "execution_count": 20,
     "metadata": {},
     "output_type": "execute_result"
    }
   ],
   "source": [
    "len(matching_cells)"
   ]
  },
  {
   "cell_type": "markdown",
   "id": "8a00d080-2f5d-4a04-93a5-c0c499f5aa78",
   "metadata": {},
   "source": [
    "#### Found barcodes match perfectly with provided barcodes"
   ]
  },
  {
   "cell_type": "code",
   "execution_count": 21,
   "id": "dcfcdacc-0639-4b9a-a8eb-4c7120cd9ee5",
   "metadata": {},
   "outputs": [],
   "source": [
    "primer_types = []\n",
    "\n",
    "# Iterate through the cell names in adata.obs.index\n",
    "for cell_name in adata.obs.index:\n",
    "    # Split the cell name by underscore\n",
    "    parts = cell_name.split('_')\n",
    "    \n",
    "    # Check if parts[6] is in the keys or values of bc_matched\n",
    "    if parts[zu] in bc_matched.values():\n",
    "        primer_types.append('T')  # If in keys, set primer_type to 'T'\n",
    "    elif parts[zu] in bc_matched.keys():\n",
    "        primer_types.append('R')  # If in values, set primer_type to 'R'\n",
    "    else:\n",
    "        primer_types.append(None)  # No match, you can assign None or another value\n",
    "\n",
    "# Add the new column to the obs DataFrame\n",
    "adata.obs['primer_type'] = primer_types"
   ]
  },
  {
   "cell_type": "code",
   "execution_count": 22,
   "id": "8463b08b-913c-4927-8acf-86ecd534bcba",
   "metadata": {},
   "outputs": [
    {
     "name": "stdout",
     "output_type": "stream",
     "text": [
      "                                                   primer_type\n",
      "Whitecheeked_gibbon_CCAGTTCA_AAACATCG_AGGATTAA_...           R\n",
      "Whitecheeked_gibbon_AACCGAGA_AACGCTTA_AGGATTAA_...           R\n",
      "Whitecheeked_gibbon_CAACCACA_AAGACGGA_AGGATTAA_...           R\n",
      "Whitecheeked_gibbon_GGTGCGAA_AAGACGGA_AGGATTAA_...           R\n",
      "Whitecheeked_gibbon_GTCTGTCA_AAGACGGA_AGGATTAA_...           R\n",
      "...                                                        ...\n",
      "Whitecheeked_gibbon_AGATCGCA_TGAAGAGA_TTCATCGC_...           R\n",
      "Whitecheeked_gibbon_CAATGGAA_TGGTGGTA_TTCATCGC_...           R\n",
      "Whitecheeked_gibbon_CCTCCTGA_TGGTGGTA_TTCATCGC_...           R\n",
      "Whitecheeked_gibbon_ACAGCAGA_TTCACGCA_TTCATCGC_...           R\n",
      "Whitecheeked_gibbon_TATCAGCA_TTCACGCA_TTCATCGC_...           R\n",
      "\n",
      "[7576 rows x 1 columns]\n"
     ]
    }
   ],
   "source": [
    "print(adata.obs[['primer_type']])"
   ]
  },
  {
   "cell_type": "code",
   "execution_count": 23,
   "id": "6d202458-8df8-479b-9bb8-a921e4c43f98",
   "metadata": {},
   "outputs": [
    {
     "data": {
      "text/plain": [
       "0"
      ]
     },
     "execution_count": 23,
     "metadata": {},
     "output_type": "execute_result"
    }
   ],
   "source": [
    "adata.obs['primer_type'].isna().sum()"
   ]
  },
  {
   "cell_type": "code",
   "execution_count": 24,
   "id": "4b0540ea-b339-431a-b6dc-0901c6d40e00",
   "metadata": {},
   "outputs": [
    {
     "name": "stdout",
     "output_type": "stream",
     "text": [
      "  primer_type  count\n",
      "0           T   6254\n",
      "1           R   1322\n"
     ]
    }
   ],
   "source": [
    "# Create a summary table counting 'T' and 'R'\n",
    "summary_table = adata.obs['primer_type'].value_counts().reset_index()\n",
    "summary_table.columns = ['primer_type', 'count']\n",
    "\n",
    "print(summary_table)"
   ]
  },
  {
   "cell_type": "code",
   "execution_count": 25,
   "id": "cf5cad50-3ba8-4de3-9ddc-e10590f94cbd",
   "metadata": {},
   "outputs": [
    {
     "data": {
      "text/plain": [
       "0"
      ]
     },
     "execution_count": 25,
     "metadata": {},
     "output_type": "execute_result"
    }
   ],
   "source": [
    "adata.obs['primer_type'].isna().sum()"
   ]
  },
  {
   "cell_type": "markdown",
   "id": "5da41bec-4be9-4141-a3c1-bcfa43aa98f1",
   "metadata": {},
   "source": [
    "#### Save file with only poliT primers"
   ]
  },
  {
   "cell_type": "code",
   "execution_count": 26,
   "id": "cfaf002f-0282-4dc8-aa40-3f624b245d8a",
   "metadata": {},
   "outputs": [],
   "source": [
    "filtered_adata = adata[adata.obs['primer_type'] == 'T'].copy()"
   ]
  },
  {
   "cell_type": "code",
   "execution_count": 27,
   "id": "9d3e1b92-5aac-42b3-9c28-14c1e6cc043a",
   "metadata": {},
   "outputs": [],
   "source": [
    "# filtered_adata.write(f'{path_out}/preproc_1_starsolo_multimap_only_poliT.h5ad')"
   ]
  },
  {
   "cell_type": "markdown",
   "id": "a0bf5b04-a25b-4e97-a736-d59676c4e2b0",
   "metadata": {},
   "source": [
    "### Save all data "
   ]
  },
  {
   "cell_type": "markdown",
   "id": "4b36b31e-cae0-43fb-8ead-3471093baf4a",
   "metadata": {},
   "source": [
    "Collapse random hexamers"
   ]
  },
  {
   "cell_type": "code",
   "execution_count": 28,
   "id": "a42a3074-c116-41e3-8015-3a1ef37326ac",
   "metadata": {},
   "outputs": [],
   "source": [
    "adata_R = adata[adata.obs['primer_type'] == 'R'].copy()"
   ]
  },
  {
   "cell_type": "code",
   "execution_count": 29,
   "id": "03dec7f1-5849-4a29-bd7f-601f47eec20e",
   "metadata": {},
   "outputs": [
    {
     "data": {
      "text/plain": [
       "AnnData object with n_obs × n_vars = 1322 × 34643\n",
       "    obs: 'DATASET', 'primer_type'\n",
       "    var: 'gene_ids', 'feature_types'"
      ]
     },
     "execution_count": 29,
     "metadata": {},
     "output_type": "execute_result"
    }
   ],
   "source": [
    "adata_R"
   ]
  },
  {
   "cell_type": "code",
   "execution_count": 30,
   "id": "897bb04b-93d1-4dd9-a7ce-8ccade268e09",
   "metadata": {},
   "outputs": [
    {
     "data": {
      "text/html": [
       "<div>\n",
       "<style scoped>\n",
       "    .dataframe tbody tr th:only-of-type {\n",
       "        vertical-align: middle;\n",
       "    }\n",
       "\n",
       "    .dataframe tbody tr th {\n",
       "        vertical-align: top;\n",
       "    }\n",
       "\n",
       "    .dataframe thead th {\n",
       "        text-align: right;\n",
       "    }\n",
       "</style>\n",
       "<table border=\"1\" class=\"dataframe\">\n",
       "  <thead>\n",
       "    <tr style=\"text-align: right;\">\n",
       "      <th></th>\n",
       "      <th>DATASET</th>\n",
       "      <th>primer_type</th>\n",
       "    </tr>\n",
       "  </thead>\n",
       "  <tbody>\n",
       "    <tr>\n",
       "      <th>Whitecheeked_gibbon_AGATCGCA_TGAAGAGA_TTCATCGC_PARSE6_UDI_WT_4</th>\n",
       "      <td>Whitecheeked_gibbon</td>\n",
       "      <td>R</td>\n",
       "    </tr>\n",
       "    <tr>\n",
       "      <th>Whitecheeked_gibbon_CAATGGAA_TGGTGGTA_TTCATCGC_PARSE6_UDI_WT_4</th>\n",
       "      <td>Whitecheeked_gibbon</td>\n",
       "      <td>R</td>\n",
       "    </tr>\n",
       "    <tr>\n",
       "      <th>Whitecheeked_gibbon_CCTCCTGA_TGGTGGTA_TTCATCGC_PARSE6_UDI_WT_4</th>\n",
       "      <td>Whitecheeked_gibbon</td>\n",
       "      <td>R</td>\n",
       "    </tr>\n",
       "    <tr>\n",
       "      <th>Whitecheeked_gibbon_ACAGCAGA_TTCACGCA_TTCATCGC_PARSE6_UDI_WT_4</th>\n",
       "      <td>Whitecheeked_gibbon</td>\n",
       "      <td>R</td>\n",
       "    </tr>\n",
       "    <tr>\n",
       "      <th>Whitecheeked_gibbon_TATCAGCA_TTCACGCA_TTCATCGC_PARSE6_UDI_WT_4</th>\n",
       "      <td>Whitecheeked_gibbon</td>\n",
       "      <td>R</td>\n",
       "    </tr>\n",
       "  </tbody>\n",
       "</table>\n",
       "</div>"
      ],
      "text/plain": [
       "                                                                DATASET  \\\n",
       "Whitecheeked_gibbon_AGATCGCA_TGAAGAGA_TTCATCGC_...  Whitecheeked_gibbon   \n",
       "Whitecheeked_gibbon_CAATGGAA_TGGTGGTA_TTCATCGC_...  Whitecheeked_gibbon   \n",
       "Whitecheeked_gibbon_CCTCCTGA_TGGTGGTA_TTCATCGC_...  Whitecheeked_gibbon   \n",
       "Whitecheeked_gibbon_ACAGCAGA_TTCACGCA_TTCATCGC_...  Whitecheeked_gibbon   \n",
       "Whitecheeked_gibbon_TATCAGCA_TTCACGCA_TTCATCGC_...  Whitecheeked_gibbon   \n",
       "\n",
       "                                                   primer_type  \n",
       "Whitecheeked_gibbon_AGATCGCA_TGAAGAGA_TTCATCGC_...           R  \n",
       "Whitecheeked_gibbon_CAATGGAA_TGGTGGTA_TTCATCGC_...           R  \n",
       "Whitecheeked_gibbon_CCTCCTGA_TGGTGGTA_TTCATCGC_...           R  \n",
       "Whitecheeked_gibbon_ACAGCAGA_TTCACGCA_TTCATCGC_...           R  \n",
       "Whitecheeked_gibbon_TATCAGCA_TTCACGCA_TTCATCGC_...           R  "
      ]
     },
     "execution_count": 30,
     "metadata": {},
     "output_type": "execute_result"
    }
   ],
   "source": [
    "adata_R.obs[-5:]"
   ]
  },
  {
   "cell_type": "code",
   "execution_count": 31,
   "id": "124c774c-7b23-43d9-8099-88b1dd402214",
   "metadata": {},
   "outputs": [],
   "source": [
    "new_obs_names = []\n",
    "for cell_name in adata_R.obs.index:\n",
    "    parts = cell_name.split('_')\n",
    "    if parts[4] in bc_matched.keys():\n",
    "        #replace parts[2] with corresponding key\n",
    "        for key, value in bc_matched.items():\n",
    "            if key == parts[4]:\n",
    "                parts[4] = value\n",
    "                break\n",
    "        #reconstruct new cellname\n",
    "        new_cell_name = '_'.join(parts)\n",
    "        new_obs_names.append(new_cell_name)\n",
    "    else:\n",
    "        new_obs_names.append(cell_name) "
   ]
  },
  {
   "cell_type": "code",
   "execution_count": 32,
   "id": "4e33d6da-f356-4e8f-b139-43983ad7e89e",
   "metadata": {},
   "outputs": [
    {
     "data": {
      "text/plain": [
       "1322"
      ]
     },
     "execution_count": 32,
     "metadata": {},
     "output_type": "execute_result"
    }
   ],
   "source": [
    "len(new_obs_names)"
   ]
  },
  {
   "cell_type": "code",
   "execution_count": 33,
   "id": "be4b433d-e528-45f2-a477-d37e570172e1",
   "metadata": {},
   "outputs": [],
   "source": [
    "# update rownames of adata_matching with updated names\n",
    "adata_R.obs_names = new_obs_names"
   ]
  },
  {
   "cell_type": "code",
   "execution_count": 34,
   "id": "a20189f8-b0d4-47b7-bf3e-6944b4f443f0",
   "metadata": {},
   "outputs": [
    {
     "data": {
      "text/plain": [
       "Index(['Whitecheeked_gibbon_CCAGTTCA_AAACATCG_GTGCTAGC_PARSE1_UDI_WT_1',\n",
       "       'Whitecheeked_gibbon_AACCGAGA_AACGCTTA_GTGCTAGC_PARSE1_UDI_WT_1',\n",
       "       'Whitecheeked_gibbon_CAACCACA_AAGACGGA_GTGCTAGC_PARSE1_UDI_WT_1',\n",
       "       'Whitecheeked_gibbon_GGTGCGAA_AAGACGGA_GTGCTAGC_PARSE1_UDI_WT_1',\n",
       "       'Whitecheeked_gibbon_GTCTGTCA_AAGACGGA_GTGCTAGC_PARSE1_UDI_WT_1'],\n",
       "      dtype='object')"
      ]
     },
     "execution_count": 34,
     "metadata": {},
     "output_type": "execute_result"
    }
   ],
   "source": [
    "adata_R.obs_names[:5]"
   ]
  },
  {
   "cell_type": "code",
   "execution_count": 35,
   "id": "23dc6ce6-697a-4b49-8a38-33472788af21",
   "metadata": {},
   "outputs": [],
   "source": [
    "adata_matching_sorted = adata_R[adata_R.obs_names.argsort()].copy()\n",
    "adata_remaining_sorted = filtered_adata[filtered_adata.obs_names.argsort()].copy()"
   ]
  },
  {
   "cell_type": "code",
   "execution_count": 36,
   "id": "eeb721bb-dc65-49c2-b91a-571a9651977c",
   "metadata": {},
   "outputs": [
    {
     "name": "stdout",
     "output_type": "stream",
     "text": [
      "Number of common obs_names: 1320\n"
     ]
    }
   ],
   "source": [
    "obs_names_adata1 = set(adata_matching_sorted.obs_names)\n",
    "obs_names_adata2 = set(adata_remaining_sorted.obs_names)\n",
    "\n",
    "# Find the common obs_names between the two datasets\n",
    "common_obs_names = obs_names_adata1.intersection(obs_names_adata2)\n",
    "\n",
    "# Print the common obs_names and the count\n",
    "print(f\"Number of common obs_names: {len(common_obs_names)}\")"
   ]
  },
  {
   "cell_type": "code",
   "execution_count": 37,
   "id": "50490645-5877-43a9-b620-db7e70448397",
   "metadata": {},
   "outputs": [
    {
     "data": {
      "text/plain": [
       "AnnData object with n_obs × n_vars = 1322 × 34643\n",
       "    obs: 'DATASET', 'primer_type'\n",
       "    var: 'gene_ids', 'feature_types'"
      ]
     },
     "execution_count": 37,
     "metadata": {},
     "output_type": "execute_result"
    }
   ],
   "source": [
    "adata_matching_sorted"
   ]
  },
  {
   "cell_type": "code",
   "execution_count": 38,
   "id": "bd090803-6f33-4d89-ba6c-9ed3cc45f535",
   "metadata": {},
   "outputs": [],
   "source": [
    "adata_matching_sorted = adata_matching_sorted[adata_matching_sorted.obs_names.isin(common_obs_names)].copy()"
   ]
  },
  {
   "cell_type": "code",
   "execution_count": 39,
   "id": "8e51b34a-b9e1-47c3-9120-0e4ba500089b",
   "metadata": {},
   "outputs": [
    {
     "data": {
      "text/plain": [
       "AnnData object with n_obs × n_vars = 1320 × 34643\n",
       "    obs: 'DATASET', 'primer_type'\n",
       "    var: 'gene_ids', 'feature_types'"
      ]
     },
     "execution_count": 39,
     "metadata": {},
     "output_type": "execute_result"
    }
   ],
   "source": [
    "adata_matching_sorted"
   ]
  },
  {
   "cell_type": "code",
   "execution_count": 40,
   "id": "cf3cf87d-1349-45b8-a7cf-3023a701a220",
   "metadata": {},
   "outputs": [
    {
     "data": {
      "text/plain": [
       "AnnData object with n_obs × n_vars = 6254 × 34643\n",
       "    obs: 'DATASET', 'primer_type'\n",
       "    var: 'gene_ids', 'feature_types'"
      ]
     },
     "execution_count": 40,
     "metadata": {},
     "output_type": "execute_result"
    }
   ],
   "source": [
    "adata_remaining_sorted"
   ]
  },
  {
   "cell_type": "markdown",
   "id": "df6e8de8-ab74-49d4-9633-c34b7e00a9fe",
   "metadata": {},
   "source": [
    "Take out the cells from adata_remaining_sorted that are the same as in the adata_matching sorted.\n",
    "Then, sum the matrices (because the rownames and colnames are the same)\n",
    "Then, concatenate it with "
   ]
  },
  {
   "cell_type": "code",
   "execution_count": 41,
   "id": "bde8f54d-3bb8-4063-b4e2-43017c5b2cf2",
   "metadata": {},
   "outputs": [],
   "source": [
    "adata_solo_cells = filtered_adata[~filtered_adata.obs_names.isin(common_obs_names)].copy()\n",
    "adata_remaining_subset = filtered_adata[filtered_adata.obs_names.isin(common_obs_names)].copy()"
   ]
  },
  {
   "cell_type": "code",
   "execution_count": 42,
   "id": "6bb05d41-13cc-4942-82ba-3503849fc195",
   "metadata": {},
   "outputs": [
    {
     "data": {
      "text/plain": [
       "AnnData object with n_obs × n_vars = 4934 × 34643\n",
       "    obs: 'DATASET', 'primer_type'\n",
       "    var: 'gene_ids', 'feature_types'"
      ]
     },
     "execution_count": 42,
     "metadata": {},
     "output_type": "execute_result"
    }
   ],
   "source": [
    "adata_solo_cells"
   ]
  },
  {
   "cell_type": "code",
   "execution_count": 43,
   "id": "40554488-0f9e-42e3-bbc6-c7d93511d879",
   "metadata": {},
   "outputs": [
    {
     "data": {
      "text/plain": [
       "AnnData object with n_obs × n_vars = 1320 × 34643\n",
       "    obs: 'DATASET', 'primer_type'\n",
       "    var: 'gene_ids', 'feature_types'"
      ]
     },
     "execution_count": 43,
     "metadata": {},
     "output_type": "execute_result"
    }
   ],
   "source": [
    "adata_remaining_subset"
   ]
  },
  {
   "cell_type": "code",
   "execution_count": 44,
   "id": "734506ed-48f1-4016-9611-e96174ee26eb",
   "metadata": {},
   "outputs": [
    {
     "data": {
      "text/plain": [
       "11200"
      ]
     },
     "execution_count": 44,
     "metadata": {},
     "output_type": "execute_result"
    }
   ],
   "source": [
    "4760+6440"
   ]
  },
  {
   "cell_type": "code",
   "execution_count": 45,
   "id": "77ec6c55-aa5d-4619-9d5c-6cfa8f28e9d4",
   "metadata": {},
   "outputs": [],
   "source": [
    "adata_remaining_subset = adata_remaining_subset[adata_remaining_subset.obs_names.argsort()].copy()"
   ]
  },
  {
   "cell_type": "code",
   "execution_count": 46,
   "id": "b4a35f6d-efaa-4b05-863c-664a639b724e",
   "metadata": {},
   "outputs": [
    {
     "name": "stdout",
     "output_type": "stream",
     "text": [
      "Shape of adata_dupl: (1320, 34643)\n"
     ]
    }
   ],
   "source": [
    "# assert np.array_equal(adata_remaining_subset.obs_names, adata_matching_sorted.obs_names), \"Row names are not the same\"\n",
    "assert np.array_equal(adata_remaining_subset.var_names, adata_matching_sorted.var_names), \"Column names are not the same\"\n",
    "\n",
    "# Sum the .X matrices (count data) from both objects\n",
    "summed_matrix = adata_remaining_subset.X + adata_matching_sorted.X\n",
    "\n",
    "# Create a new AnnData object with the summed matrix\n",
    "adata_dupl = ad.AnnData(X=summed_matrix, \n",
    "                        obs=adata_remaining_subset.obs,  # Use the same obs (row metadata)\n",
    "                        var=adata_remaining_subset.var)  # Use the same var (column metadata)\n",
    "\n",
    "# Print the shape to confirm the result\n",
    "print(f\"Shape of adata_dupl: {adata_dupl.shape}\")"
   ]
  },
  {
   "cell_type": "code",
   "execution_count": 47,
   "id": "b610c755-e493-465c-8a5c-f2f42a883e7f",
   "metadata": {},
   "outputs": [
    {
     "data": {
      "text/plain": [
       "AnnData object with n_obs × n_vars = 1320 × 34643\n",
       "    obs: 'DATASET', 'primer_type'\n",
       "    var: 'gene_ids', 'feature_types'"
      ]
     },
     "execution_count": 47,
     "metadata": {},
     "output_type": "execute_result"
    }
   ],
   "source": [
    "adata_dupl"
   ]
  },
  {
   "cell_type": "code",
   "execution_count": 48,
   "id": "549bf07a-bc18-4040-b0be-6a4442ca99fd",
   "metadata": {},
   "outputs": [],
   "source": [
    "assert np.array_equal(adata_dupl.var_names, adata_solo_cells.var_names), \"Column names are not the same\"\n",
    "\n",
    "final_adata = ad.concat([adata_dupl, adata_solo_cells])"
   ]
  },
  {
   "cell_type": "markdown",
   "id": "021bf42c-697e-4a76-8120-4cd58059b8a3",
   "metadata": {},
   "source": [
    "Final_adata with the collapsed random hexamers"
   ]
  },
  {
   "cell_type": "code",
   "execution_count": 49,
   "id": "311e15ed-65d3-4185-8db3-9135c075280e",
   "metadata": {},
   "outputs": [
    {
     "data": {
      "text/plain": [
       "AnnData object with n_obs × n_vars = 6254 × 34643\n",
       "    obs: 'DATASET', 'primer_type'"
      ]
     },
     "execution_count": 49,
     "metadata": {},
     "output_type": "execute_result"
    }
   ],
   "source": [
    "final_adata"
   ]
  },
  {
   "cell_type": "code",
   "execution_count": 50,
   "id": "e04a3910-b4ab-4b65-8a8f-d73a72402d57",
   "metadata": {},
   "outputs": [],
   "source": [
    "final_adata.write(adata_out_mm)"
   ]
  }
 ],
 "metadata": {
  "kernelspec": {
   "display_name": "Python 3 (ipykernel)",
   "language": "python",
   "name": "python3"
  },
  "language_info": {
   "codemirror_mode": {
    "name": "ipython",
    "version": 3
   },
   "file_extension": ".py",
   "mimetype": "text/x-python",
   "name": "python",
   "nbconvert_exporter": "python",
   "pygments_lexer": "ipython3",
   "version": "3.12.3"
  }
 },
 "nbformat": 4,
 "nbformat_minor": 5
}
